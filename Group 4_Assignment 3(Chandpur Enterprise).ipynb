{
 "cells": [
  {
   "cell_type": "code",
   "execution_count": 7,
   "id": "ef7f8928",
   "metadata": {},
   "outputs": [],
   "source": [
    "#Nomenclature\n",
    "RM = ['Tasla', 'Rangeen', 'Sponge', 'LocalScrap', 'ImportedScrap', 'HC', 'PigIron']"
   ]
  },
  {
   "cell_type": "code",
   "execution_count": 8,
   "id": "c8e996b2",
   "metadata": {},
   "outputs": [],
   "source": [
    "#Parameters\n",
    "RM_Par =        {'Tasla':         {'Rate':17000,'Recovery':0.84,'Min':0,   'Max':0.5, 'Max/Month':800},\n",
    "                 'Rangeen':       {'Rate':13600,'Recovery':0.74,'Min':0,   'Max':0.25,'Max/Month':500},\n",
    "                 'Sponge':        {'Rate':17800,'Recovery':0.85,'Min':0.1, 'Max':0.5, 'Max/Month':1000},\n",
    "                 'LocalScrap':    {'Rate':20000,'Recovery':0.94,'Min':0.15,'Max':0.8, 'Max/Month':1000},\n",
    "                 'ImportedScrap': {'Rate':23000,'Recovery':0.97,'Min':0,   'Max':0.8, 'Max/Month':1500},\n",
    "                 'HC':            {'Rate':2500, 'Recovery':0.25,'Min':0,   'Max':0.2, 'Max/Month':300},\n",
    "                 'PigIron':       {'Rate':20400,'Recovery':0.95,'Min':0.05,'Max':0.1, 'Max/Month':500}}"
   ]
  },
  {
   "cell_type": "code",
   "execution_count": 9,
   "id": "91e6da63",
   "metadata": {},
   "outputs": [],
   "source": [
    "#Defining Problem\n",
    "import pulp as p\n",
    "Lp_prob = p.LpProblem('Chandpur_Enterprise',p.LpMaximize)"
   ]
  },
  {
   "cell_type": "code",
   "execution_count": 10,
   "id": "94eaceac",
   "metadata": {},
   "outputs": [],
   "source": [
    "#Decision Variables\n",
    "RM_Var = p.LpVariable.dicts('Raw Material Quantities',[i for i in RM]) \n",
    "#ReEvaluate, this might lead to a problem, no lower bound defined, currently it is -infinity"
   ]
  },
  {
   "cell_type": "code",
   "execution_count": 11,
   "id": "72bb2e2d",
   "metadata": {},
   "outputs": [],
   "source": [
    "#Objective Function\n",
    "Lp_prob += (p.lpSum(RM_Par[i]['Recovery']*RM_Var[i] for i in RM)*29000)-p.lpSum(RM_Par[i]['Rate']*RM_Var[i] for i in RM)-((p.lpSum(RM_Var[i] for i in RM)*700+1200)*4.3)-2000*p.lpSum(RM_Par[i]['Recovery']*RM_Var[i] for i in RM)-3000"
   ]
  },
  {
   "cell_type": "code",
   "execution_count": 12,
   "id": "efc58c22",
   "metadata": {},
   "outputs": [],
   "source": [
    "#Constraints\n",
    "Lp_prob+= p.LpConstraint(e=p.LpAffineExpression([(RM_Var[i],RM_Par[i]['Recovery']) for i in RM]),sense=-1,name='Main',rhs=4)\n",
    "for i in RM:\n",
    "    Lp_prob+= RM_Par[i]['Min']*sum(RM_Var.values()) <= RM_Var[i]\n",
    "for i in RM:\n",
    "     Lp_prob+= RM_Var[i] <= RM_Par[i]['Max']*sum(RM_Var.values())\n",
    "for i in RM:\n",
    "    Lp_prob+= RM_Var[i] <= (RM_Par[i]['Max/Month']*(sum(RM_Var.values())*0.3+0.2))/600\n",
    "    \n",
    "#Lp_prob+= 0.84*RM_Var['Tasla']+ 0.74*RM_Var['Rangeen']+ 0.85*RM_Var['Sponge']+ 0.94*RM_Var['LocalScrap']+ 0.97*RM_Var['ImportedScrap']+ 0.25*RM_Var['HC']+ 0.95*RM_Var['PigIron'] <=4 "
   ]
  },
  {
   "cell_type": "code",
   "execution_count": 13,
   "id": "5ca79a60",
   "metadata": {},
   "outputs": [
    {
     "name": "stdout",
     "output_type": "stream",
     "text": [
      "Chandpur_Enterprise:\n",
      "MAXIMIZE\n",
      "1240.0*Raw_Material_Quantities_HC + 180.0*Raw_Material_Quantities_ImportedScrap + 2370.0*Raw_Material_Quantities_LocalScrap + 2240.0*Raw_Material_Quantities_PigIron + 3370.0*Raw_Material_Quantities_Rangeen + 2140.0*Raw_Material_Quantities_Sponge + 2670.0*Raw_Material_Quantities_Tasla + -8160.0\n",
      "SUBJECT TO\n",
      "Main: 0.25 Raw_Material_Quantities_HC\n",
      " + 0.97 Raw_Material_Quantities_ImportedScrap\n",
      " + 0.94 Raw_Material_Quantities_LocalScrap\n",
      " + 0.95 Raw_Material_Quantities_PigIron + 0.74 Raw_Material_Quantities_Rangeen\n",
      " + 0.85 Raw_Material_Quantities_Sponge + 0.84 Raw_Material_Quantities_Tasla\n",
      " <= 4\n",
      "\n",
      "_C1: - Raw_Material_Quantities_Tasla <= 0\n",
      "\n",
      "_C2: - Raw_Material_Quantities_Rangeen <= 0\n",
      "\n",
      "_C3: 0.1 Raw_Material_Quantities_HC\n",
      " + 0.1 Raw_Material_Quantities_ImportedScrap\n",
      " + 0.1 Raw_Material_Quantities_LocalScrap\n",
      " + 0.1 Raw_Material_Quantities_PigIron + 0.1 Raw_Material_Quantities_Rangeen\n",
      " - 0.9 Raw_Material_Quantities_Sponge + 0.1 Raw_Material_Quantities_Tasla <= 0\n",
      "\n",
      "_C4: 0.15 Raw_Material_Quantities_HC\n",
      " + 0.15 Raw_Material_Quantities_ImportedScrap\n",
      " - 0.85 Raw_Material_Quantities_LocalScrap\n",
      " + 0.15 Raw_Material_Quantities_PigIron + 0.15 Raw_Material_Quantities_Rangeen\n",
      " + 0.15 Raw_Material_Quantities_Sponge + 0.15 Raw_Material_Quantities_Tasla\n",
      " <= 0\n",
      "\n",
      "_C5: - Raw_Material_Quantities_ImportedScrap <= 0\n",
      "\n",
      "_C6: - Raw_Material_Quantities_HC <= 0\n",
      "\n",
      "_C7: 0.05 Raw_Material_Quantities_HC\n",
      " + 0.05 Raw_Material_Quantities_ImportedScrap\n",
      " + 0.05 Raw_Material_Quantities_LocalScrap\n",
      " - 0.95 Raw_Material_Quantities_PigIron + 0.05 Raw_Material_Quantities_Rangeen\n",
      " + 0.05 Raw_Material_Quantities_Sponge + 0.05 Raw_Material_Quantities_Tasla\n",
      " <= 0\n",
      "\n",
      "_C8: - 0.5 Raw_Material_Quantities_HC\n",
      " - 0.5 Raw_Material_Quantities_ImportedScrap\n",
      " - 0.5 Raw_Material_Quantities_LocalScrap\n",
      " - 0.5 Raw_Material_Quantities_PigIron - 0.5 Raw_Material_Quantities_Rangeen\n",
      " - 0.5 Raw_Material_Quantities_Sponge + 0.5 Raw_Material_Quantities_Tasla <= 0\n",
      "\n",
      "_C9: - 0.25 Raw_Material_Quantities_HC\n",
      " - 0.25 Raw_Material_Quantities_ImportedScrap\n",
      " - 0.25 Raw_Material_Quantities_LocalScrap\n",
      " - 0.25 Raw_Material_Quantities_PigIron + 0.75 Raw_Material_Quantities_Rangeen\n",
      " - 0.25 Raw_Material_Quantities_Sponge - 0.25 Raw_Material_Quantities_Tasla\n",
      " <= 0\n",
      "\n",
      "_C10: - 0.5 Raw_Material_Quantities_HC\n",
      " - 0.5 Raw_Material_Quantities_ImportedScrap\n",
      " - 0.5 Raw_Material_Quantities_LocalScrap\n",
      " - 0.5 Raw_Material_Quantities_PigIron - 0.5 Raw_Material_Quantities_Rangeen\n",
      " + 0.5 Raw_Material_Quantities_Sponge - 0.5 Raw_Material_Quantities_Tasla <= 0\n",
      "\n",
      "_C11: - 0.8 Raw_Material_Quantities_HC\n",
      " - 0.8 Raw_Material_Quantities_ImportedScrap\n",
      " + 0.2 Raw_Material_Quantities_LocalScrap\n",
      " - 0.8 Raw_Material_Quantities_PigIron - 0.8 Raw_Material_Quantities_Rangeen\n",
      " - 0.8 Raw_Material_Quantities_Sponge - 0.8 Raw_Material_Quantities_Tasla <= 0\n",
      "\n",
      "_C12: - 0.8 Raw_Material_Quantities_HC\n",
      " + 0.2 Raw_Material_Quantities_ImportedScrap\n",
      " - 0.8 Raw_Material_Quantities_LocalScrap\n",
      " - 0.8 Raw_Material_Quantities_PigIron - 0.8 Raw_Material_Quantities_Rangeen\n",
      " - 0.8 Raw_Material_Quantities_Sponge - 0.8 Raw_Material_Quantities_Tasla <= 0\n",
      "\n",
      "_C13: 0.8 Raw_Material_Quantities_HC\n",
      " - 0.2 Raw_Material_Quantities_ImportedScrap\n",
      " - 0.2 Raw_Material_Quantities_LocalScrap\n",
      " - 0.2 Raw_Material_Quantities_PigIron - 0.2 Raw_Material_Quantities_Rangeen\n",
      " - 0.2 Raw_Material_Quantities_Sponge - 0.2 Raw_Material_Quantities_Tasla <= 0\n",
      "\n",
      "_C14: - 0.1 Raw_Material_Quantities_HC\n",
      " - 0.1 Raw_Material_Quantities_ImportedScrap\n",
      " - 0.1 Raw_Material_Quantities_LocalScrap\n",
      " + 0.9 Raw_Material_Quantities_PigIron - 0.1 Raw_Material_Quantities_Rangeen\n",
      " - 0.1 Raw_Material_Quantities_Sponge - 0.1 Raw_Material_Quantities_Tasla <= 0\n",
      "\n",
      "_C15: - 0.4 Raw_Material_Quantities_HC\n",
      " - 0.4 Raw_Material_Quantities_ImportedScrap\n",
      " - 0.4 Raw_Material_Quantities_LocalScrap\n",
      " - 0.4 Raw_Material_Quantities_PigIron - 0.4 Raw_Material_Quantities_Rangeen\n",
      " - 0.4 Raw_Material_Quantities_Sponge + 0.6 Raw_Material_Quantities_Tasla\n",
      " <= 0.266666666667\n",
      "\n",
      "_C16: - 0.25 Raw_Material_Quantities_HC\n",
      " - 0.25 Raw_Material_Quantities_ImportedScrap\n",
      " - 0.25 Raw_Material_Quantities_LocalScrap\n",
      " - 0.25 Raw_Material_Quantities_PigIron + 0.75 Raw_Material_Quantities_Rangeen\n",
      " - 0.25 Raw_Material_Quantities_Sponge - 0.25 Raw_Material_Quantities_Tasla\n",
      " <= 0.166666666667\n",
      "\n",
      "_C17: - 0.5 Raw_Material_Quantities_HC\n",
      " - 0.5 Raw_Material_Quantities_ImportedScrap\n",
      " - 0.5 Raw_Material_Quantities_LocalScrap\n",
      " - 0.5 Raw_Material_Quantities_PigIron - 0.5 Raw_Material_Quantities_Rangeen\n",
      " + 0.5 Raw_Material_Quantities_Sponge - 0.5 Raw_Material_Quantities_Tasla\n",
      " <= 0.333333333333\n",
      "\n",
      "_C18: - 0.5 Raw_Material_Quantities_HC\n",
      " - 0.5 Raw_Material_Quantities_ImportedScrap\n",
      " + 0.5 Raw_Material_Quantities_LocalScrap\n",
      " - 0.5 Raw_Material_Quantities_PigIron - 0.5 Raw_Material_Quantities_Rangeen\n",
      " - 0.5 Raw_Material_Quantities_Sponge - 0.5 Raw_Material_Quantities_Tasla\n",
      " <= 0.333333333333\n",
      "\n",
      "_C19: - 0.75 Raw_Material_Quantities_HC\n",
      " + 0.25 Raw_Material_Quantities_ImportedScrap\n",
      " - 0.75 Raw_Material_Quantities_LocalScrap\n",
      " - 0.75 Raw_Material_Quantities_PigIron - 0.75 Raw_Material_Quantities_Rangeen\n",
      " - 0.75 Raw_Material_Quantities_Sponge - 0.75 Raw_Material_Quantities_Tasla\n",
      " <= 0.5\n",
      "\n",
      "_C20: 0.85 Raw_Material_Quantities_HC\n",
      " - 0.15 Raw_Material_Quantities_ImportedScrap\n",
      " - 0.15 Raw_Material_Quantities_LocalScrap\n",
      " - 0.15 Raw_Material_Quantities_PigIron - 0.15 Raw_Material_Quantities_Rangeen\n",
      " - 0.15 Raw_Material_Quantities_Sponge - 0.15 Raw_Material_Quantities_Tasla\n",
      " <= 0.1\n",
      "\n",
      "_C21: - 0.25 Raw_Material_Quantities_HC\n",
      " - 0.25 Raw_Material_Quantities_ImportedScrap\n",
      " - 0.25 Raw_Material_Quantities_LocalScrap\n",
      " + 0.75 Raw_Material_Quantities_PigIron - 0.25 Raw_Material_Quantities_Rangeen\n",
      " - 0.25 Raw_Material_Quantities_Sponge - 0.25 Raw_Material_Quantities_Tasla\n",
      " <= 0.166666666667\n",
      "\n",
      "VARIABLES\n",
      "Raw_Material_Quantities_HC free Continuous\n",
      "Raw_Material_Quantities_ImportedScrap free Continuous\n",
      "Raw_Material_Quantities_LocalScrap free Continuous\n",
      "Raw_Material_Quantities_PigIron free Continuous\n",
      "Raw_Material_Quantities_Rangeen free Continuous\n",
      "Raw_Material_Quantities_Sponge free Continuous\n",
      "Raw_Material_Quantities_Tasla free Continuous\n",
      "\n"
     ]
    }
   ],
   "source": [
    "print(Lp_prob)"
   ]
  },
  {
   "cell_type": "code",
   "execution_count": 14,
   "id": "53e1f4b2",
   "metadata": {},
   "outputs": [],
   "source": [
    "status = Lp_prob.solve()"
   ]
  },
  {
   "cell_type": "code",
   "execution_count": 15,
   "id": "ff5e0358",
   "metadata": {},
   "outputs": [
    {
     "name": "stdout",
     "output_type": "stream",
     "text": [
      "Optimal\n"
     ]
    }
   ],
   "source": [
    "print(p.LpStatus[status]) #The Solution Status"
   ]
  },
  {
   "cell_type": "code",
   "execution_count": 16,
   "id": "40398ca3",
   "metadata": {},
   "outputs": [
    {
     "name": "stdout",
     "output_type": "stream",
     "text": [
      "5322.867561500001\n"
     ]
    }
   ],
   "source": [
    "Z= print(p.value(Lp_prob.objective))"
   ]
  },
  {
   "cell_type": "code",
   "execution_count": 17,
   "id": "0f8e3f85",
   "metadata": {},
   "outputs": [
    {
     "name": "stdout",
     "output_type": "stream",
     "text": [
      "Raw_Material_Quantities_HC = 0.91397059\n",
      "Raw_Material_Quantities_ImportedScrap = -0.0\n",
      "Raw_Material_Quantities_LocalScrap = 0.81397059\n",
      "Raw_Material_Quantities_PigIron = 0.27132353\n",
      "Raw_Material_Quantities_Rangeen = 1.3566176\n",
      "Raw_Material_Quantities_Sponge = 0.54264706\n",
      "Raw_Material_Quantities_Tasla = 1.5279412\n"
     ]
    }
   ],
   "source": [
    "for v in Lp_prob.variables():\n",
    "    print (v.name,\"=\",v.varValue)\n",
    "    "
   ]
  },
  {
   "cell_type": "code",
   "execution_count": null,
   "id": "645c05f8",
   "metadata": {},
   "outputs": [],
   "source": []
  }
 ],
 "metadata": {
  "kernelspec": {
   "display_name": "Python 3 (ipykernel)",
   "language": "python",
   "name": "python3"
  },
  "language_info": {
   "codemirror_mode": {
    "name": "ipython",
    "version": 3
   },
   "file_extension": ".py",
   "mimetype": "text/x-python",
   "name": "python",
   "nbconvert_exporter": "python",
   "pygments_lexer": "ipython3",
   "version": "3.9.12"
  }
 },
 "nbformat": 4,
 "nbformat_minor": 5
}
